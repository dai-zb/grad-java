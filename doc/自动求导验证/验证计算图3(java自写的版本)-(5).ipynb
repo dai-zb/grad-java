{
 "cells": [
  {
   "cell_type": "code",
   "execution_count": 1,
   "id": "cb94856d",
   "metadata": {},
   "outputs": [],
   "source": [
    "import torch"
   ]
  },
  {
   "cell_type": "markdown",
   "id": "0ac430db",
   "metadata": {},
   "source": [
    "## 验证5\n",
    "\n",
    "Y = X W\n",
    "\n",
    "Z = Y + B\n",
    "\n",
    "l = MS(Z - ZZ)"
   ]
  },
  {
   "cell_type": "code",
   "execution_count": 2,
   "id": "0d3a5c6f",
   "metadata": {},
   "outputs": [
    {
     "data": {
      "text/plain": [
       "tensor([[1., 0., 1.],\n",
       "        [0., 1., 0.],\n",
       "        [1., 0., 1.]], requires_grad=True)"
      ]
     },
     "execution_count": 2,
     "metadata": {},
     "output_type": "execute_result"
    }
   ],
   "source": [
    "X = torch.tensor([[4,2,3],[1,4,3],[1,2,5]], dtype=torch.float32)\n",
    "W = torch.tensor([[3,2,5],[1,9,3],[7,2,1]], dtype=torch.float32)\n",
    "B = torch.tensor([[1,0,1],[0,1,0],[1,0,1]], dtype=torch.float32)\n",
    "\n",
    "X.requires_grad_(requires_grad=True)\n",
    "W.requires_grad_(requires_grad=True)\n",
    "B.requires_grad_(requires_grad=True)"
   ]
  },
  {
   "cell_type": "code",
   "execution_count": 3,
   "id": "5701907d",
   "metadata": {},
   "outputs": [],
   "source": [
    "ZZ = torch.tensor([[1,0,0],[0,1,0],[1,0,0]], dtype=torch.float32)"
   ]
  },
  {
   "cell_type": "code",
   "execution_count": 4,
   "id": "f2c9081e",
   "metadata": {},
   "outputs": [
    {
     "data": {
      "text/plain": [
       "tensor([[35., 32., 29.],\n",
       "        [28., 44., 20.],\n",
       "        [40., 30., 16.]], grad_fn=<MmBackward>)"
      ]
     },
     "execution_count": 4,
     "metadata": {},
     "output_type": "execute_result"
    }
   ],
   "source": [
    "Y=torch.mm(X, W)\n",
    "Y"
   ]
  },
  {
   "cell_type": "code",
   "execution_count": 5,
   "id": "61498edb",
   "metadata": {},
   "outputs": [
    {
     "data": {
      "text/plain": [
       "tensor([[36., 32., 30.],\n",
       "        [28., 45., 20.],\n",
       "        [41., 30., 17.]], grad_fn=<AddBackward0>)"
      ]
     },
     "execution_count": 5,
     "metadata": {},
     "output_type": "execute_result"
    }
   ],
   "source": [
    "Z=Y+B\n",
    "Z"
   ]
  },
  {
   "cell_type": "code",
   "execution_count": 6,
   "id": "0bdd6e9a",
   "metadata": {},
   "outputs": [
    {
     "data": {
      "text/plain": [
       "tensor(3019.3333, grad_fn=<DivBackward0>)"
      ]
     },
     "execution_count": 6,
     "metadata": {},
     "output_type": "execute_result"
    }
   ],
   "source": [
    "l=((Z-ZZ)**2).sum()/3\n",
    "l"
   ]
  },
  {
   "cell_type": "code",
   "execution_count": 7,
   "id": "9d5900da",
   "metadata": {},
   "outputs": [],
   "source": [
    "l.backward()"
   ]
  },
  {
   "cell_type": "code",
   "execution_count": 8,
   "id": "353b42f0",
   "metadata": {},
   "outputs": [
    {
     "data": {
      "text/plain": [
       "tensor([[212.6667, 275.3333, 226.0000],\n",
       "        [181.3333, 322.6667, 202.6667],\n",
       "        [176.6667, 240.6667, 238.0000]])"
      ]
     },
     "execution_count": 8,
     "metadata": {},
     "output_type": "execute_result"
    }
   ],
   "source": [
    "X.grad"
   ]
  },
  {
   "cell_type": "code",
   "execution_count": 9,
   "id": "a9e6d76f",
   "metadata": {},
   "outputs": [
    {
     "data": {
      "text/plain": [
       "tensor([[138.6667, 134.6667, 104.6667],\n",
       "        [174.6667, 200.0000, 116.0000],\n",
       "        [259.3333, 252.0000, 156.6667]])"
      ]
     },
     "execution_count": 9,
     "metadata": {},
     "output_type": "execute_result"
    }
   ],
   "source": [
    "W.grad"
   ]
  },
  {
   "cell_type": "code",
   "execution_count": 10,
   "id": "ad21e2af",
   "metadata": {},
   "outputs": [
    {
     "data": {
      "text/plain": [
       "tensor([[23.3333, 21.3333, 20.0000],\n",
       "        [18.6667, 29.3333, 13.3333],\n",
       "        [26.6667, 20.0000, 11.3333]])"
      ]
     },
     "execution_count": 10,
     "metadata": {},
     "output_type": "execute_result"
    }
   ],
   "source": [
    "B.grad"
   ]
  }
 ],
 "metadata": {
  "kernelspec": {
   "display_name": "Python 3",
   "language": "python",
   "name": "python3"
  },
  "language_info": {
   "codemirror_mode": {
    "name": "ipython",
    "version": 3
   },
   "file_extension": ".py",
   "mimetype": "text/x-python",
   "name": "python",
   "nbconvert_exporter": "python",
   "pygments_lexer": "ipython3",
   "version": "3.8.5"
  }
 },
 "nbformat": 4,
 "nbformat_minor": 5
}
