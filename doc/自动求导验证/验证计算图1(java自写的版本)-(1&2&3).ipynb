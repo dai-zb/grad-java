{
 "cells": [
  {
   "cell_type": "code",
   "execution_count": 1,
   "id": "cb94856d",
   "metadata": {},
   "outputs": [],
   "source": [
    "import torch"
   ]
  },
  {
   "cell_type": "markdown",
   "id": "0ac430db",
   "metadata": {},
   "source": [
    "## 验证1\n",
    "\n",
    "Y = X W\n",
    "\n",
    "Z = Y + B\n",
    "\n",
    "l = MS(Z)"
   ]
  },
  {
   "cell_type": "code",
   "execution_count": 2,
   "id": "0d3a5c6f",
   "metadata": {},
   "outputs": [
    {
     "data": {
      "text/plain": [
       "tensor([[1., 0., 1.],\n",
       "        [0., 1., 0.],\n",
       "        [1., 0., 1.]], requires_grad=True)"
      ]
     },
     "execution_count": 2,
     "metadata": {},
     "output_type": "execute_result"
    }
   ],
   "source": [
    "X = torch.tensor([[4,2,3],[1,4,3],[1,2,5]], dtype=torch.float32)\n",
    "W = torch.tensor([[3,2,5],[1,9,3],[7,2,1]], dtype=torch.float32)\n",
    "B = torch.tensor([[1,0,1],[0,1,0],[1,0,1]], dtype=torch.float32)\n",
    "\n",
    "X.requires_grad_(requires_grad=True)\n",
    "W.requires_grad_(requires_grad=True)\n",
    "B.requires_grad_(requires_grad=True)"
   ]
  },
  {
   "cell_type": "code",
   "execution_count": 3,
   "id": "f2c9081e",
   "metadata": {},
   "outputs": [
    {
     "data": {
      "text/plain": [
       "tensor([[35., 32., 29.],\n",
       "        [28., 44., 20.],\n",
       "        [40., 30., 16.]], grad_fn=<MmBackward>)"
      ]
     },
     "execution_count": 3,
     "metadata": {},
     "output_type": "execute_result"
    }
   ],
   "source": [
    "Y=torch.mm(X, W)\n",
    "Y"
   ]
  },
  {
   "cell_type": "code",
   "execution_count": 4,
   "id": "61498edb",
   "metadata": {},
   "outputs": [
    {
     "data": {
      "text/plain": [
       "tensor([[36., 32., 30.],\n",
       "        [28., 45., 20.],\n",
       "        [41., 30., 17.]], grad_fn=<AddBackward0>)"
      ]
     },
     "execution_count": 4,
     "metadata": {},
     "output_type": "execute_result"
    }
   ],
   "source": [
    "Z=Y+B\n",
    "Z"
   ]
  },
  {
   "cell_type": "code",
   "execution_count": 5,
   "id": "0bdd6e9a",
   "metadata": {},
   "outputs": [
    {
     "data": {
      "text/plain": [
       "tensor(3099.6667, grad_fn=<DivBackward0>)"
      ]
     },
     "execution_count": 5,
     "metadata": {},
     "output_type": "execute_result"
    }
   ],
   "source": [
    "l=(Z**2).sum()/3\n",
    "l"
   ]
  },
  {
   "cell_type": "code",
   "execution_count": 6,
   "id": "9d5900da",
   "metadata": {},
   "outputs": [],
   "source": [
    "l.backward()"
   ]
  },
  {
   "cell_type": "code",
   "execution_count": 7,
   "id": "353b42f0",
   "metadata": {},
   "outputs": [
    {
     "data": {
      "text/plain": [
       "tensor([[214.6667, 276.0000, 230.6667],\n",
       "        [182.6667, 328.6667, 204.0000],\n",
       "        [178.6667, 241.3333, 242.6667]])"
      ]
     },
     "execution_count": 7,
     "metadata": {},
     "output_type": "execute_result"
    }
   ],
   "source": [
    "X.grad"
   ]
  },
  {
   "cell_type": "code",
   "execution_count": 8,
   "id": "a9e6d76f",
   "metadata": {},
   "outputs": [
    {
     "data": {
      "text/plain": [
       "tensor([[142.0000, 135.3333, 104.6667],\n",
       "        [177.3333, 202.6667, 116.0000],\n",
       "        [264.6667, 254.0000, 156.6667]])"
      ]
     },
     "execution_count": 8,
     "metadata": {},
     "output_type": "execute_result"
    }
   ],
   "source": [
    "W.grad"
   ]
  },
  {
   "cell_type": "code",
   "execution_count": 9,
   "id": "ad21e2af",
   "metadata": {},
   "outputs": [
    {
     "data": {
      "text/plain": [
       "tensor([[24.0000, 21.3333, 20.0000],\n",
       "        [18.6667, 30.0000, 13.3333],\n",
       "        [27.3333, 20.0000, 11.3333]])"
      ]
     },
     "execution_count": 9,
     "metadata": {},
     "output_type": "execute_result"
    }
   ],
   "source": [
    "B.grad"
   ]
  },
  {
   "cell_type": "markdown",
   "id": "cd1c549f",
   "metadata": {},
   "source": [
    "## 验证2\n",
    "\n",
    "Y = X W\n",
    "\n",
    "Z = Y + B\n",
    "\n",
    "U = Sigmoid(Z)\n",
    "\n",
    "l = MS(U)"
   ]
  },
  {
   "cell_type": "code",
   "execution_count": 10,
   "id": "920b425a",
   "metadata": {},
   "outputs": [
    {
     "data": {
      "text/plain": [
       "tensor([[-1.,  0.,  1., -2.],\n",
       "        [-3.,  0., -1.,  0.],\n",
       "        [ 1.,  2.,  0., -1.],\n",
       "        [ 3., -2.,  1.,  2.],\n",
       "        [-3.,  2., -1.,  1.]], requires_grad=True)"
      ]
     },
     "execution_count": 10,
     "metadata": {},
     "output_type": "execute_result"
    }
   ],
   "source": [
    "X = torch.tensor([[0.4,0.2,0.3],[0.1,0.4,0.3],[0.1,0.2,0.5],[0.3,0.6,0.3],[0.8,0.6,0.5]], dtype=torch.float32)\n",
    "W = torch.tensor([[3,2,5,1],[1,5,9,3],[4,7,2,1]], dtype=torch.float32)\n",
    "B = torch.tensor([[-1,0,1,-2],[-3,0,-1,0],[1,2,0,-1],[3,-2,1,2],[-3,2,-1,1]], dtype=torch.float32)\n",
    "\n",
    "X.requires_grad_(requires_grad=True)\n",
    "W.requires_grad_(requires_grad=True)\n",
    "B.requires_grad_(requires_grad=True)"
   ]
  },
  {
   "cell_type": "code",
   "execution_count": 11,
   "id": "0c3f344b",
   "metadata": {},
   "outputs": [
    {
     "data": {
      "text/plain": [
       "tensor([[ 2.6000,  3.9000,  4.4000,  1.3000],\n",
       "        [ 1.9000,  4.3000,  4.7000,  1.6000],\n",
       "        [ 2.5000,  4.7000,  3.3000,  1.2000],\n",
       "        [ 2.7000,  5.7000,  7.5000,  2.4000],\n",
       "        [ 5.0000,  8.1000, 10.4000,  3.1000]], grad_fn=<MmBackward>)"
      ]
     },
     "execution_count": 11,
     "metadata": {},
     "output_type": "execute_result"
    }
   ],
   "source": [
    "Y=torch.mm(X, W)\n",
    "Y"
   ]
  },
  {
   "cell_type": "code",
   "execution_count": 12,
   "id": "b6f32f1c",
   "metadata": {},
   "outputs": [
    {
     "data": {
      "text/plain": [
       "tensor([[ 1.6000,  3.9000,  5.4000, -0.7000],\n",
       "        [-1.1000,  4.3000,  3.7000,  1.6000],\n",
       "        [ 3.5000,  6.7000,  3.3000,  0.2000],\n",
       "        [ 5.7000,  3.7000,  8.5000,  4.4000],\n",
       "        [ 2.0000, 10.1000,  9.4000,  4.1000]], grad_fn=<AddBackward0>)"
      ]
     },
     "execution_count": 12,
     "metadata": {},
     "output_type": "execute_result"
    }
   ],
   "source": [
    "Z=Y+B\n",
    "Z"
   ]
  },
  {
   "cell_type": "code",
   "execution_count": 13,
   "id": "9831cb8a",
   "metadata": {},
   "outputs": [
    {
     "data": {
      "text/plain": [
       "tensor([[0.8320, 0.9802, 0.9955, 0.3318],\n",
       "        [0.2497, 0.9866, 0.9759, 0.8320],\n",
       "        [0.9707, 0.9988, 0.9644, 0.5498],\n",
       "        [0.9967, 0.9759, 0.9998, 0.9879],\n",
       "        [0.8808, 1.0000, 0.9999, 0.9837]], grad_fn=<SigmoidBackward>)"
      ]
     },
     "execution_count": 13,
     "metadata": {},
     "output_type": "execute_result"
    }
   ],
   "source": [
    "U=torch.sigmoid(Z)\n",
    "U"
   ]
  },
  {
   "cell_type": "code",
   "execution_count": 14,
   "id": "ab06c14f",
   "metadata": {},
   "outputs": [
    {
     "data": {
      "text/plain": [
       "tensor(3.2542, grad_fn=<DivBackward0>)"
      ]
     },
     "execution_count": 14,
     "metadata": {},
     "output_type": "execute_result"
    }
   ],
   "source": [
    "r,c=U.shape\n",
    "l=(U**2).sum()/r\n",
    "l"
   ]
  },
  {
   "cell_type": "code",
   "execution_count": 15,
   "id": "c9a7d87b",
   "metadata": {},
   "outputs": [],
   "source": [
    "l.backward()"
   ]
  },
  {
   "cell_type": "code",
   "execution_count": 16,
   "id": "2ffe1ac2",
   "metadata": {},
   "outputs": [
    {
     "data": {
      "text/plain": [
       "tensor([[0.1931, 0.1890, 0.2724],\n",
       "        [0.1590, 0.2670, 0.1763],\n",
       "        [0.1547, 0.2959, 0.1285],\n",
       "        [0.0275, 0.0622, 0.0745],\n",
       "        [0.1175, 0.0563, 0.1545]])"
      ]
     },
     "execution_count": 16,
     "metadata": {},
     "output_type": "execute_result"
    }
   ],
   "source": [
    "X.grad"
   ]
  },
  {
   "cell_type": "code",
   "execution_count": 17,
   "id": "ba80f182",
   "metadata": {},
   "outputs": [
    {
     "data": {
      "text/plain": [
       "tensor([[0.0516, 0.0064, 0.0030, 0.0283],\n",
       "        [0.0420, 0.0092, 0.0067, 0.0420],\n",
       "        [0.0440, 0.0069, 0.0099, 0.0546]])"
      ]
     },
     "execution_count": 17,
     "metadata": {},
     "output_type": "execute_result"
    }
   ],
   "source": [
    "W.grad"
   ]
  },
  {
   "cell_type": "code",
   "execution_count": 18,
   "id": "41aea284",
   "metadata": {},
   "outputs": [
    {
     "data": {
      "text/plain": [
       "tensor([[4.6514e-02, 7.6243e-03, 1.7824e-03, 2.9427e-02],\n",
       "        [1.8717e-02, 5.2124e-03, 9.1907e-03, 4.6514e-02],\n",
       "        [1.1048e-02, 4.9058e-04, 1.3234e-02, 5.4437e-02],\n",
       "        [1.3250e-03, 9.1907e-03, 8.1339e-05, 4.7344e-03],\n",
       "        [3.6991e-02, 1.6450e-05, 3.3087e-05, 6.3101e-03]])"
      ]
     },
     "execution_count": 18,
     "metadata": {},
     "output_type": "execute_result"
    }
   ],
   "source": [
    "B.grad"
   ]
  },
  {
   "cell_type": "markdown",
   "id": "d166060b",
   "metadata": {},
   "source": [
    "## 验证3\n",
    "\n",
    "Y = X W\n",
    "\n",
    "Z = Y + B\n",
    "\n",
    "U = Sigmoid(Z)\n",
    "\n",
    "V = U + B\n",
    "\n",
    "l = MS(V)"
   ]
  },
  {
   "cell_type": "code",
   "execution_count": 19,
   "id": "9aa48fcb",
   "metadata": {},
   "outputs": [
    {
     "data": {
      "text/plain": [
       "tensor([[-1.,  0.,  1., -2.],\n",
       "        [-3.,  0., -1.,  0.],\n",
       "        [ 1.,  2.,  0., -1.],\n",
       "        [ 3., -2.,  1.,  2.],\n",
       "        [-3.,  2., -1.,  1.]], requires_grad=True)"
      ]
     },
     "execution_count": 19,
     "metadata": {},
     "output_type": "execute_result"
    }
   ],
   "source": [
    "X = torch.tensor([[0.4,0.2,0.3],[0.1,0.4,0.3],[0.1,0.2,0.5],[0.3,0.6,0.3],[0.8,0.6,0.5]], dtype=torch.float32)\n",
    "W = torch.tensor([[3,2,5,1],[1,5,9,3],[4,7,2,1]], dtype=torch.float32)\n",
    "B = torch.tensor([[-1,0,1,-2],[-3,0,-1,0],[1,2,0,-1],[3,-2,1,2],[-3,2,-1,1]], dtype=torch.float32)\n",
    "\n",
    "X.requires_grad_(requires_grad=True)\n",
    "W.requires_grad_(requires_grad=True)\n",
    "B.requires_grad_(requires_grad=True)"
   ]
  },
  {
   "cell_type": "code",
   "execution_count": 20,
   "id": "936e0638",
   "metadata": {},
   "outputs": [
    {
     "data": {
      "text/plain": [
       "tensor([[ 2.6000,  3.9000,  4.4000,  1.3000],\n",
       "        [ 1.9000,  4.3000,  4.7000,  1.6000],\n",
       "        [ 2.5000,  4.7000,  3.3000,  1.2000],\n",
       "        [ 2.7000,  5.7000,  7.5000,  2.4000],\n",
       "        [ 5.0000,  8.1000, 10.4000,  3.1000]], grad_fn=<MmBackward>)"
      ]
     },
     "execution_count": 20,
     "metadata": {},
     "output_type": "execute_result"
    }
   ],
   "source": [
    "Y=torch.mm(X, W)\n",
    "Y"
   ]
  },
  {
   "cell_type": "code",
   "execution_count": 21,
   "id": "67bedf59",
   "metadata": {},
   "outputs": [
    {
     "data": {
      "text/plain": [
       "tensor([[ 1.6000,  3.9000,  5.4000, -0.7000],\n",
       "        [-1.1000,  4.3000,  3.7000,  1.6000],\n",
       "        [ 3.5000,  6.7000,  3.3000,  0.2000],\n",
       "        [ 5.7000,  3.7000,  8.5000,  4.4000],\n",
       "        [ 2.0000, 10.1000,  9.4000,  4.1000]], grad_fn=<AddBackward0>)"
      ]
     },
     "execution_count": 21,
     "metadata": {},
     "output_type": "execute_result"
    }
   ],
   "source": [
    "Z=Y+B\n",
    "Z"
   ]
  },
  {
   "cell_type": "code",
   "execution_count": 22,
   "id": "bed57e11",
   "metadata": {},
   "outputs": [
    {
     "data": {
      "text/plain": [
       "tensor([[0.8320, 0.9802, 0.9955, 0.3318],\n",
       "        [0.2497, 0.9866, 0.9759, 0.8320],\n",
       "        [0.9707, 0.9988, 0.9644, 0.5498],\n",
       "        [0.9967, 0.9759, 0.9998, 0.9879],\n",
       "        [0.8808, 1.0000, 0.9999, 0.9837]], grad_fn=<SigmoidBackward>)"
      ]
     },
     "execution_count": 22,
     "metadata": {},
     "output_type": "execute_result"
    }
   ],
   "source": [
    "U=torch.sigmoid(Z)\n",
    "U"
   ]
  },
  {
   "cell_type": "code",
   "execution_count": 23,
   "id": "541a45a6",
   "metadata": {},
   "outputs": [
    {
     "data": {
      "text/plain": [
       "tensor([[-1.6798e-01,  9.8016e-01,  1.9955e+00, -1.6682e+00],\n",
       "        [-2.7503e+00,  9.8661e-01, -2.4127e-02,  8.3202e-01],\n",
       "        [ 1.9707e+00,  2.9988e+00,  9.6443e-01, -4.5017e-01],\n",
       "        [ 3.9967e+00, -1.0241e+00,  1.9998e+00,  2.9879e+00],\n",
       "        [-2.1192e+00,  3.0000e+00, -8.2731e-05,  1.9837e+00]],\n",
       "       grad_fn=<AddBackward0>)"
      ]
     },
     "execution_count": 23,
     "metadata": {},
     "output_type": "execute_result"
    }
   ],
   "source": [
    "V = U + B\n",
    "V"
   ]
  },
  {
   "cell_type": "code",
   "execution_count": 24,
   "id": "0f74840d",
   "metadata": {},
   "outputs": [
    {
     "data": {
      "text/plain": [
       "tensor(15.6735, grad_fn=<DivBackward0>)"
      ]
     },
     "execution_count": 24,
     "metadata": {},
     "output_type": "execute_result"
    }
   ],
   "source": [
    "r,c=V.shape\n",
    "\n",
    "l=(V**2).sum()/r\n",
    "l"
   ]
  },
  {
   "cell_type": "code",
   "execution_count": 25,
   "id": "a7114c05",
   "metadata": {},
   "outputs": [],
   "source": [
    "l.backward()"
   ]
  },
  {
   "cell_type": "code",
   "execution_count": 26,
   "id": "f129fae5",
   "metadata": {},
   "outputs": [
    {
     "data": {
      "text/plain": [
       "tensor([[-0.1430, -0.3829, -0.1250],\n",
       "        [-0.5626, -0.0426, -0.7420],\n",
       "        [ 0.0918,  0.0152,  0.0819],\n",
       "        [ 0.0118,  0.0015, -0.0316],\n",
       "        [-0.2542, -0.0506, -0.3429]])"
      ]
     },
     "execution_count": 26,
     "metadata": {},
     "output_type": "execute_result"
    }
   ],
   "source": [
    "X.grad"
   ]
  },
  {
   "cell_type": "code",
   "execution_count": 27,
   "id": "5110fc79",
   "metadata": {},
   "outputs": [
    {
     "data": {
      "text/plain": [
       "tensor([[-0.0917,  0.0009,  0.0028, -0.0445],\n",
       "        [-0.1301, -0.0019,  0.0034, -0.0037],\n",
       "        [-0.0963,  0.0017,  0.0077, -0.0421]])"
      ]
     },
     "execution_count": 27,
     "metadata": {},
     "output_type": "execute_result"
    }
   ],
   "source": [
    "W.grad"
   ]
  },
  {
   "cell_type": "code",
   "execution_count": 28,
   "id": "b354faf8",
   "metadata": {},
   "outputs": [
    {
     "data": {
      "text/plain": [
       "tensor([[-7.6584e-02,  3.9969e-01,  8.0177e-01, -8.1522e-01],\n",
       "        [-1.3062e+00,  3.9986e-01, -9.8780e-03,  3.7932e-01],\n",
       "        [ 8.1070e-01,  1.2010e+00,  3.9901e-01, -2.2464e-01],\n",
       "        [ 1.6040e+00, -4.1930e-01,  8.0008e-01,  1.2095e+00],\n",
       "        [-9.3668e-01,  1.2000e+00, -3.3095e-05,  8.0620e-01]])"
      ]
     },
     "execution_count": 28,
     "metadata": {},
     "output_type": "execute_result"
    }
   ],
   "source": [
    "B.grad"
   ]
  }
 ],
 "metadata": {
  "kernelspec": {
   "display_name": "Python 3",
   "language": "python",
   "name": "python3"
  },
  "language_info": {
   "codemirror_mode": {
    "name": "ipython",
    "version": 3
   },
   "file_extension": ".py",
   "mimetype": "text/x-python",
   "name": "python",
   "nbconvert_exporter": "python",
   "pygments_lexer": "ipython3",
   "version": "3.8.5"
  }
 },
 "nbformat": 4,
 "nbformat_minor": 5
}
