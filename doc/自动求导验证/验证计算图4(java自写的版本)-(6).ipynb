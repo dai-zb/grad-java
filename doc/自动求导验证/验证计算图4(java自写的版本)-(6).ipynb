{
 "cells": [
  {
   "cell_type": "markdown",
   "id": "6e094d40",
   "metadata": {},
   "source": [
    "## 验证6\n",
    "\n",
    "Y = softmax(X)\n",
    "\n",
    "l = CE(Y,Y_bar)"
   ]
  },
  {
   "cell_type": "code",
   "execution_count": 4,
   "id": "446d83db",
   "metadata": {},
   "outputs": [],
   "source": [
    "import torch\n",
    "import torch.nn as nn"
   ]
  },
  {
   "cell_type": "markdown",
   "id": "eeb87be4",
   "metadata": {},
   "source": [
    "### 输入&输出"
   ]
  },
  {
   "cell_type": "code",
   "execution_count": 5,
   "id": "e1901d94",
   "metadata": {},
   "outputs": [
    {
     "data": {
      "text/plain": [
       "tensor([[-0.2743,  0.3708,  0.3835],\n",
       "        [ 1.7228, -0.2395,  0.3428],\n",
       "        [-1.2263,  0.7666, -0.1894],\n",
       "        [ 0.5035, -0.4118, -0.7194],\n",
       "        [-0.9220, -1.9626, -0.5345]], requires_grad=True)"
      ]
     },
     "execution_count": 5,
     "metadata": {},
     "output_type": "execute_result"
    }
   ],
   "source": [
    "x = torch.randn(5, 3)\n",
    "x.requires_grad_(requires_grad=True)"
   ]
  },
  {
   "cell_type": "code",
   "execution_count": 6,
   "id": "a8e7f31b",
   "metadata": {},
   "outputs": [
    {
     "data": {
      "text/plain": [
       "tensor([[ 0.4469,  0.7072,  1.2886],\n",
       "        [ 0.0334, -1.6490, -0.8464],\n",
       "        [ 1.7588,  0.2174,  1.6029],\n",
       "        [-0.6278, -1.3048, -0.6514],\n",
       "        [-0.8362, -0.5904,  0.2429]], requires_grad=True)"
      ]
     },
     "execution_count": 6,
     "metadata": {},
     "output_type": "execute_result"
    }
   ],
   "source": [
    "x = torch.tensor(\n",
    "       [[ 0.4469,  0.7072,  1.2886],\n",
    "        [ 0.0334, -1.6490, -0.8464],\n",
    "        [ 1.7588,  0.2174,  1.6029],\n",
    "        [-0.6278, -1.3048, -0.6514],\n",
    "        [-0.8362, -0.5904,  0.2429]])\n",
    "x.requires_grad_(requires_grad=True)"
   ]
  },
  {
   "cell_type": "code",
   "execution_count": 7,
   "id": "952405ac",
   "metadata": {},
   "outputs": [
    {
     "data": {
      "text/plain": [
       "tensor([2, 1, 0, 2, 1])"
      ]
     },
     "execution_count": 7,
     "metadata": {},
     "output_type": "execute_result"
    }
   ],
   "source": [
    "target=torch.tensor([2,1,0,2,1])\n",
    "target"
   ]
  },
  {
   "cell_type": "code",
   "execution_count": 8,
   "id": "17c63313",
   "metadata": {},
   "outputs": [
    {
     "data": {
      "text/plain": [
       "tensor([[0.2166, 0.2809, 0.5025],\n",
       "        [0.6247, 0.1161, 0.2592],\n",
       "        [0.4832, 0.1034, 0.4134],\n",
       "        [0.4024, 0.2045, 0.3931],\n",
       "        [0.1915, 0.2449, 0.5635]], grad_fn=<SoftmaxBackward>)"
      ]
     },
     "execution_count": 8,
     "metadata": {},
     "output_type": "execute_result"
    }
   ],
   "source": [
    "softmax1=torch.nn.Softmax(dim=1)\n",
    "softmax1(x)"
   ]
  },
  {
   "cell_type": "markdown",
   "id": "50f9022c",
   "metadata": {},
   "source": [
    "### 构建计算"
   ]
  },
  {
   "cell_type": "code",
   "execution_count": 9,
   "id": "0f5f75c5",
   "metadata": {},
   "outputs": [
    {
     "data": {
      "text/plain": [
       "tensor(1.1818, grad_fn=<NllLossBackward>)"
      ]
     },
     "execution_count": 9,
     "metadata": {},
     "output_type": "execute_result"
    }
   ],
   "source": [
    "loss = nn.CrossEntropyLoss()\n",
    "l=loss(x,target)\n",
    "l"
   ]
  },
  {
   "cell_type": "markdown",
   "id": "8a1f00c9",
   "metadata": {},
   "source": [
    "### 自动求导计算梯度"
   ]
  },
  {
   "cell_type": "code",
   "execution_count": 10,
   "id": "4c09c0ce",
   "metadata": {},
   "outputs": [
    {
     "data": {
      "text/plain": [
       "tensor([[ 0.0433,  0.0562, -0.0995],\n",
       "        [ 0.1249, -0.1768,  0.0518],\n",
       "        [-0.1034,  0.0207,  0.0827],\n",
       "        [ 0.0805,  0.0409, -0.1214],\n",
       "        [ 0.0383, -0.1510,  0.1127]])"
      ]
     },
     "execution_count": 10,
     "metadata": {},
     "output_type": "execute_result"
    }
   ],
   "source": [
    "l.backward()\n",
    "x.grad"
   ]
  }
 ],
 "metadata": {
  "kernelspec": {
   "display_name": "Python 3",
   "language": "python",
   "name": "python3"
  },
  "language_info": {
   "codemirror_mode": {
    "name": "ipython",
    "version": 3
   },
   "file_extension": ".py",
   "mimetype": "text/x-python",
   "name": "python",
   "nbconvert_exporter": "python",
   "pygments_lexer": "ipython3",
   "version": "3.8.5"
  }
 },
 "nbformat": 4,
 "nbformat_minor": 5
}
